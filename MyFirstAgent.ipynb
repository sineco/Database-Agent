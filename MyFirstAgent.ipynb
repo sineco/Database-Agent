{
 "cells": [
  {
   "cell_type": "code",
   "execution_count": 2,
   "id": "696044a6-27e5-4d98-9abd-ac39f8625179",
   "metadata": {},
   "outputs": [
    {
     "name": "stdout",
     "output_type": "stream",
     "text": [
      "Requirement already satisfied: pyodbc==5.1.0 in /Library/Frameworks/Python.framework/Versions/3.12/lib/python3.12/site-packages (from -r requirements.txt (line 4)) (5.1.0)\n",
      "Requirement already satisfied: tabulate==0.9.0 in /Library/Frameworks/Python.framework/Versions/3.12/lib/python3.12/site-packages (from -r requirements.txt (line 5)) (0.9.0)\n",
      "Requirement already satisfied: openai==1.12.0 in /Library/Frameworks/Python.framework/Versions/3.12/lib/python3.12/site-packages (from -r requirements.txt (line 6)) (1.12.0)\n",
      "Requirement already satisfied: langchain==0.1.6 in /Library/Frameworks/Python.framework/Versions/3.12/lib/python3.12/site-packages (from -r requirements.txt (line 7)) (0.1.6)\n",
      "Requirement already satisfied: langchain-community==0.0.20 in /Library/Frameworks/Python.framework/Versions/3.12/lib/python3.12/site-packages (from -r requirements.txt (line 8)) (0.0.20)\n",
      "Requirement already satisfied: langchain-core==0.1.23 in /Library/Frameworks/Python.framework/Versions/3.12/lib/python3.12/site-packages (from -r requirements.txt (line 9)) (0.1.23)\n",
      "Requirement already satisfied: langchain-experimental==0.0.49 in /Library/Frameworks/Python.framework/Versions/3.12/lib/python3.12/site-packages (from -r requirements.txt (line 10)) (0.0.49)\n",
      "Requirement already satisfied: langchain-openai==0.0.5 in /Library/Frameworks/Python.framework/Versions/3.12/lib/python3.12/site-packages (from -r requirements.txt (line 11)) (0.0.5)\n",
      "Requirement already satisfied: pandas==2.2.2 in /Library/Frameworks/Python.framework/Versions/3.12/lib/python3.12/site-packages (from -r requirements.txt (line 12)) (2.2.2)\n",
      "Requirement already satisfied: anyio<5,>=3.5.0 in /Library/Frameworks/Python.framework/Versions/3.12/lib/python3.12/site-packages (from openai==1.12.0->-r requirements.txt (line 6)) (4.4.0)\n",
      "Requirement already satisfied: distro<2,>=1.7.0 in /Library/Frameworks/Python.framework/Versions/3.12/lib/python3.12/site-packages (from openai==1.12.0->-r requirements.txt (line 6)) (1.9.0)\n",
      "Requirement already satisfied: httpx<1,>=0.23.0 in /Library/Frameworks/Python.framework/Versions/3.12/lib/python3.12/site-packages (from openai==1.12.0->-r requirements.txt (line 6)) (0.27.0)\n",
      "Requirement already satisfied: pydantic<3,>=1.9.0 in /Library/Frameworks/Python.framework/Versions/3.12/lib/python3.12/site-packages (from openai==1.12.0->-r requirements.txt (line 6)) (2.8.2)\n",
      "Requirement already satisfied: sniffio in /Library/Frameworks/Python.framework/Versions/3.12/lib/python3.12/site-packages (from openai==1.12.0->-r requirements.txt (line 6)) (1.3.1)\n",
      "Requirement already satisfied: tqdm>4 in /Library/Frameworks/Python.framework/Versions/3.12/lib/python3.12/site-packages (from openai==1.12.0->-r requirements.txt (line 6)) (4.66.4)\n",
      "Requirement already satisfied: typing-extensions<5,>=4.7 in /Library/Frameworks/Python.framework/Versions/3.12/lib/python3.12/site-packages (from openai==1.12.0->-r requirements.txt (line 6)) (4.12.2)\n",
      "Requirement already satisfied: PyYAML>=5.3 in /Library/Frameworks/Python.framework/Versions/3.12/lib/python3.12/site-packages (from langchain==0.1.6->-r requirements.txt (line 7)) (6.0.1)\n",
      "Requirement already satisfied: SQLAlchemy<3,>=1.4 in /Library/Frameworks/Python.framework/Versions/3.12/lib/python3.12/site-packages (from langchain==0.1.6->-r requirements.txt (line 7)) (2.0.31)\n",
      "Requirement already satisfied: aiohttp<4.0.0,>=3.8.3 in /Library/Frameworks/Python.framework/Versions/3.12/lib/python3.12/site-packages (from langchain==0.1.6->-r requirements.txt (line 7)) (3.9.5)\n",
      "Requirement already satisfied: dataclasses-json<0.7,>=0.5.7 in /Library/Frameworks/Python.framework/Versions/3.12/lib/python3.12/site-packages (from langchain==0.1.6->-r requirements.txt (line 7)) (0.6.7)\n",
      "Requirement already satisfied: jsonpatch<2.0,>=1.33 in /Library/Frameworks/Python.framework/Versions/3.12/lib/python3.12/site-packages (from langchain==0.1.6->-r requirements.txt (line 7)) (1.33)\n",
      "Requirement already satisfied: langsmith<0.1,>=0.0.83 in /Library/Frameworks/Python.framework/Versions/3.12/lib/python3.12/site-packages (from langchain==0.1.6->-r requirements.txt (line 7)) (0.0.87)\n",
      "Requirement already satisfied: numpy<2,>=1 in /Library/Frameworks/Python.framework/Versions/3.12/lib/python3.12/site-packages (from langchain==0.1.6->-r requirements.txt (line 7)) (1.26.4)\n",
      "Requirement already satisfied: requests<3,>=2 in /Library/Frameworks/Python.framework/Versions/3.12/lib/python3.12/site-packages (from langchain==0.1.6->-r requirements.txt (line 7)) (2.32.3)\n",
      "Requirement already satisfied: tenacity<9.0.0,>=8.1.0 in /Library/Frameworks/Python.framework/Versions/3.12/lib/python3.12/site-packages (from langchain==0.1.6->-r requirements.txt (line 7)) (8.5.0)\n",
      "Requirement already satisfied: packaging<24.0,>=23.2 in /Library/Frameworks/Python.framework/Versions/3.12/lib/python3.12/site-packages (from langchain-core==0.1.23->-r requirements.txt (line 9)) (23.2)\n",
      "Requirement already satisfied: tiktoken<0.6.0,>=0.5.2 in /Library/Frameworks/Python.framework/Versions/3.12/lib/python3.12/site-packages (from langchain-openai==0.0.5->-r requirements.txt (line 11)) (0.5.2)\n",
      "Requirement already satisfied: python-dateutil>=2.8.2 in /Library/Frameworks/Python.framework/Versions/3.12/lib/python3.12/site-packages (from pandas==2.2.2->-r requirements.txt (line 12)) (2.9.0.post0)\n",
      "Requirement already satisfied: pytz>=2020.1 in /Library/Frameworks/Python.framework/Versions/3.12/lib/python3.12/site-packages (from pandas==2.2.2->-r requirements.txt (line 12)) (2024.1)\n",
      "Requirement already satisfied: tzdata>=2022.7 in /Library/Frameworks/Python.framework/Versions/3.12/lib/python3.12/site-packages (from pandas==2.2.2->-r requirements.txt (line 12)) (2024.1)\n",
      "Requirement already satisfied: aiosignal>=1.1.2 in /Library/Frameworks/Python.framework/Versions/3.12/lib/python3.12/site-packages (from aiohttp<4.0.0,>=3.8.3->langchain==0.1.6->-r requirements.txt (line 7)) (1.3.1)\n",
      "Requirement already satisfied: attrs>=17.3.0 in /Library/Frameworks/Python.framework/Versions/3.12/lib/python3.12/site-packages (from aiohttp<4.0.0,>=3.8.3->langchain==0.1.6->-r requirements.txt (line 7)) (23.2.0)\n",
      "Requirement already satisfied: frozenlist>=1.1.1 in /Library/Frameworks/Python.framework/Versions/3.12/lib/python3.12/site-packages (from aiohttp<4.0.0,>=3.8.3->langchain==0.1.6->-r requirements.txt (line 7)) (1.4.1)\n",
      "Requirement already satisfied: multidict<7.0,>=4.5 in /Library/Frameworks/Python.framework/Versions/3.12/lib/python3.12/site-packages (from aiohttp<4.0.0,>=3.8.3->langchain==0.1.6->-r requirements.txt (line 7)) (6.0.5)\n",
      "Requirement already satisfied: yarl<2.0,>=1.0 in /Library/Frameworks/Python.framework/Versions/3.12/lib/python3.12/site-packages (from aiohttp<4.0.0,>=3.8.3->langchain==0.1.6->-r requirements.txt (line 7)) (1.9.4)\n",
      "Requirement already satisfied: idna>=2.8 in /Library/Frameworks/Python.framework/Versions/3.12/lib/python3.12/site-packages (from anyio<5,>=3.5.0->openai==1.12.0->-r requirements.txt (line 6)) (3.7)\n",
      "Requirement already satisfied: marshmallow<4.0.0,>=3.18.0 in /Library/Frameworks/Python.framework/Versions/3.12/lib/python3.12/site-packages (from dataclasses-json<0.7,>=0.5.7->langchain==0.1.6->-r requirements.txt (line 7)) (3.21.3)\n",
      "Requirement already satisfied: typing-inspect<1,>=0.4.0 in /Library/Frameworks/Python.framework/Versions/3.12/lib/python3.12/site-packages (from dataclasses-json<0.7,>=0.5.7->langchain==0.1.6->-r requirements.txt (line 7)) (0.9.0)\n",
      "Requirement already satisfied: certifi in /Library/Frameworks/Python.framework/Versions/3.12/lib/python3.12/site-packages (from httpx<1,>=0.23.0->openai==1.12.0->-r requirements.txt (line 6)) (2024.7.4)\n",
      "Requirement already satisfied: httpcore==1.* in /Library/Frameworks/Python.framework/Versions/3.12/lib/python3.12/site-packages (from httpx<1,>=0.23.0->openai==1.12.0->-r requirements.txt (line 6)) (1.0.5)\n",
      "Requirement already satisfied: h11<0.15,>=0.13 in /Library/Frameworks/Python.framework/Versions/3.12/lib/python3.12/site-packages (from httpcore==1.*->httpx<1,>=0.23.0->openai==1.12.0->-r requirements.txt (line 6)) (0.14.0)\n",
      "Requirement already satisfied: jsonpointer>=1.9 in /Library/Frameworks/Python.framework/Versions/3.12/lib/python3.12/site-packages (from jsonpatch<2.0,>=1.33->langchain==0.1.6->-r requirements.txt (line 7)) (3.0.0)\n",
      "Requirement already satisfied: annotated-types>=0.4.0 in /Library/Frameworks/Python.framework/Versions/3.12/lib/python3.12/site-packages (from pydantic<3,>=1.9.0->openai==1.12.0->-r requirements.txt (line 6)) (0.7.0)\n",
      "Requirement already satisfied: pydantic-core==2.20.1 in /Library/Frameworks/Python.framework/Versions/3.12/lib/python3.12/site-packages (from pydantic<3,>=1.9.0->openai==1.12.0->-r requirements.txt (line 6)) (2.20.1)\n",
      "Requirement already satisfied: six>=1.5 in /Library/Frameworks/Python.framework/Versions/3.12/lib/python3.12/site-packages (from python-dateutil>=2.8.2->pandas==2.2.2->-r requirements.txt (line 12)) (1.16.0)\n",
      "Requirement already satisfied: charset-normalizer<4,>=2 in /Library/Frameworks/Python.framework/Versions/3.12/lib/python3.12/site-packages (from requests<3,>=2->langchain==0.1.6->-r requirements.txt (line 7)) (3.3.2)\n",
      "Requirement already satisfied: urllib3<3,>=1.21.1 in /Library/Frameworks/Python.framework/Versions/3.12/lib/python3.12/site-packages (from requests<3,>=2->langchain==0.1.6->-r requirements.txt (line 7)) (2.2.2)\n",
      "Requirement already satisfied: regex>=2022.1.18 in /Library/Frameworks/Python.framework/Versions/3.12/lib/python3.12/site-packages (from tiktoken<0.6.0,>=0.5.2->langchain-openai==0.0.5->-r requirements.txt (line 11)) (2024.7.24)\n",
      "Requirement already satisfied: mypy-extensions>=0.3.0 in /Library/Frameworks/Python.framework/Versions/3.12/lib/python3.12/site-packages (from typing-inspect<1,>=0.4.0->dataclasses-json<0.7,>=0.5.7->langchain==0.1.6->-r requirements.txt (line 7)) (1.0.0)\n",
      "\n",
      "\u001b[1m[\u001b[0m\u001b[34;49mnotice\u001b[0m\u001b[1;39;49m]\u001b[0m\u001b[39;49m A new release of pip is available: \u001b[0m\u001b[31;49m24.0\u001b[0m\u001b[39;49m -> \u001b[0m\u001b[32;49m24.1.2\u001b[0m\n",
      "\u001b[1m[\u001b[0m\u001b[34;49mnotice\u001b[0m\u001b[1;39;49m]\u001b[0m\u001b[39;49m To update, run: \u001b[0m\u001b[32;49mpip3 install --upgrade pip\u001b[0m\n",
      "Note: you may need to restart the kernel to use updated packages.\n"
     ]
    }
   ],
   "source": [
    "pip install -r requirements.txt"
   ]
  },
  {
   "cell_type": "code",
   "execution_count": 3,
   "id": "814f94f8-745d-4426-87d3-141edb33d52d",
   "metadata": {},
   "outputs": [],
   "source": [
    "import os\n",
    "import pandas as pd\n",
    "from IPython.display import Markdown, HTML, display"
   ]
  },
  {
   "cell_type": "code",
   "execution_count": 4,
   "id": "3d0ff6b9-8842-43a1-9e3a-9a71f15a80ae",
   "metadata": {},
   "outputs": [],
   "source": [
    "from langchain.schema import HumanMessage\n",
    "from langchain_openai import ChatOpenAI\n",
    "import openai"
   ]
  },
  {
   "cell_type": "code",
   "execution_count": 5,
   "id": "2a942780-0e8d-469f-8cfb-d613840c2688",
   "metadata": {},
   "outputs": [],
   "source": [
    "# Load the API key from the environment variable\n",
    "api_key = os.getenv('OPENAI_API_KEY')"
   ]
  },
  {
   "cell_type": "code",
   "execution_count": 7,
   "id": "176e2a5a-ab1f-4144-889f-d476c77e7d77",
   "metadata": {},
   "outputs": [],
   "source": [
    "model = ChatOpenAI(\n",
    "    model=\"gpt-4o\",\n",
    "    temperature=0,\n",
    "    max_tokens=None,\n",
    "    timeout=None,\n",
    "    max_retries=2,\n",
    "    api_key=api_key \n",
    ")\n"
   ]
  },
  {
   "cell_type": "code",
   "execution_count": 8,
   "id": "c1239c7a-e3f0-435f-9879-3e767b0451f5",
   "metadata": {},
   "outputs": [
    {
     "name": "stdout",
     "output_type": "stream",
     "text": [
      "ChatCompletion(id='chatcmpl-9qmAIcRI1OXSs3yzJpqa1XkutZk4b', choices=[Choice(finish_reason='stop', index=0, logprobs=None, message=ChatCompletionMessage(content=\"Once upon a time, in a kingdom far away, there lived a valiant knight named Sir Harold. He was a noble and brave knight, lauded for his courage and strength. However, rumors had been spreading across the kingdom about a terrifying dragon who resided in Dark Mountain. This dragon was said to possess an enormous treasure of gold and jewels which he fiercely guarded.\\n\\nThe King, desiring the treasure to fortify his kingdom, sent out a proclamation offering half of the dragon's treasure to any knight who could slay the beast. Many knights tried but none returned. The King was beginning to lose hope when Sir Harold stepped forward and pledged to slay the dragon.\\n\\nArmed with his trusted sword and shield, Sir Harold journeyed towards Dark Mountain. As he reached the peak, he encountered a dragon of immense size with emerald-green scales that sparkled in the sunlight. The dragon roared and spewed fire into the sky, but Sir Harold stood his ground.\\n\\nHowever, instead of rushing in for battle as others had done, Sir Harold did something unexpected. He spoke to the dragon, asking why it hoarded so much wealth while causing fear among the people.\\n\\nThe dragon ceased its roaring and looked at Sir Harold curiously before answering in a deep voice. The dragon explained that it was cursed by a wicked sorcerer. The curse forced it to guard the treasure until a true-hearted knight would release it from its bondage.\\n\\nSir Harold, moved by the dragon's story, vowed to break this curse. He remembered an ancient spell taught by his mentor that could break any enchantments. Gathering courage, Sir Harold recited the spell with all his might.\\n\\nAs he finished, there was a blinding light and then silence. When Sir Harold opened his eyes again, he saw that before him stood not a dragon but a man with kind eyes and an air of wisdom about him.\\n\\nThe man introduced himself as Eldrion, a powerful wizard who had been transformed into a dragon by the wicked sorcerer out of jealousy. Grateful to be free of the curse, Eldrion offered Sir Harold the treasure as promised by the King.\\n\\nHowever, Sir Harold declined, stating that his reward was freeing Eldrion and learning a valuable lesson. He returned to the kingdom empty-handed but with a heart full of joy.\\n\\nThe story of Sir Harold and the dragon spread throughout the kingdom, teaching everyone that not all dragons are monsters and not all treasures are gold. And thus, Sir Harold earned his place not just as a brave knight but also as the Wisest Knight of the Kingdom.\", role='assistant', function_call=None, tool_calls=None))], created=1722365230, model='gpt-4-0613', object='chat.completion', system_fingerprint=None, usage=CompletionUsage(completion_tokens=520, prompt_tokens=18, total_tokens=538))\n"
     ]
    }
   ],
   "source": [
    "\n",
    "# Create a prompt\n",
    "prompt = \"Write a short story about a dragon and a knight.\"\n",
    "\n",
    "\n",
    "\n",
    "# Equivalent underlying API call with frequency penalty\n",
    "response = openai.OpenAI(\n",
    "    api_key=api_key\n",
    ").chat.completions.create(\n",
    "    model=\"gpt-4\",\n",
    "    messages=[{\"role\": \"user\", \"content\": prompt}],\n",
    "    temperature=0.7,\n",
    "    frequency_penalty=0.2\n",
    ")\n",
    "\n",
    "# # Alternatively, another way to invoke the ChatOpenAI\n",
    "# response = ChatOpenAI(\n",
    "#     model_name=\"gpt-4\"\n",
    "# ).invoke(\n",
    "#     messages=[{\"role\": \"user\", \"content\": prompt}],\n",
    "#     frequency_penalty=0.2\n",
    "# )\n",
    "\n",
    "# Print the response\n",
    "print(response)\n"
   ]
  },
  {
   "cell_type": "code",
   "execution_count": null,
   "id": "c3c718f0-0d18-4548-a793-77d1fefe5c61",
   "metadata": {},
   "outputs": [],
   "source": []
  }
 ],
 "metadata": {
  "kernelspec": {
   "display_name": "Python 3 (ipykernel)",
   "language": "python",
   "name": "python3"
  },
  "language_info": {
   "codemirror_mode": {
    "name": "ipython",
    "version": 3
   },
   "file_extension": ".py",
   "mimetype": "text/x-python",
   "name": "python",
   "nbconvert_exporter": "python",
   "pygments_lexer": "ipython3",
   "version": "3.12.4"
  }
 },
 "nbformat": 4,
 "nbformat_minor": 5
}
